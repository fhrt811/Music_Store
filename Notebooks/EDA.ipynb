{
 "cells": [
  {
   "cell_type": "code",
   "execution_count": 1,
   "metadata": {},
   "outputs": [],
   "source": [
    "import pandas as pd\n",
    "import numpy as np\n",
    "import mysql.connector as conn\n",
    "import warnings\n",
    "warnings.filterwarnings('ignore')"
   ]
  },
  {
   "cell_type": "code",
   "execution_count": 2,
   "metadata": {},
   "outputs": [],
   "source": [
    "mydb=conn.connect(host='localhost', user='root', password='password',auth_plugin='mysql_native_password')"
   ]
  },
  {
   "cell_type": "code",
   "execution_count": 3,
   "metadata": {},
   "outputs": [],
   "source": [
    "cur=mydb.cursor(buffered=True)"
   ]
  },
  {
   "cell_type": "code",
   "execution_count": 4,
   "metadata": {},
   "outputs": [],
   "source": [
    "cur.execute('use music_store')"
   ]
  },
  {
   "cell_type": "code",
   "execution_count": 5,
   "metadata": {},
   "outputs": [],
   "source": [
    "cur.execute('show tables')\n",
    "table_list=[table[0] for table in cur.fetchall()]"
   ]
  },
  {
   "cell_type": "code",
   "execution_count": 6,
   "metadata": {},
   "outputs": [
    {
     "data": {
      "text/plain": [
       "['album',\n",
       " 'artist',\n",
       " 'customer',\n",
       " 'employee',\n",
       " 'genre',\n",
       " 'invoice',\n",
       " 'invoice_line',\n",
       " 'media_type',\n",
       " 'playlist',\n",
       " 'playlist_track',\n",
       " 'track']"
      ]
     },
     "execution_count": 6,
     "metadata": {},
     "output_type": "execute_result"
    }
   ],
   "source": [
    "table_list"
   ]
  },
  {
   "cell_type": "code",
   "execution_count": 7,
   "metadata": {},
   "outputs": [
    {
     "data": {
      "text/html": [
       "<div>\n",
       "<style scoped>\n",
       "    .dataframe tbody tr th:only-of-type {\n",
       "        vertical-align: middle;\n",
       "    }\n",
       "\n",
       "    .dataframe tbody tr th {\n",
       "        vertical-align: top;\n",
       "    }\n",
       "\n",
       "    .dataframe thead th {\n",
       "        text-align: right;\n",
       "    }\n",
       "</style>\n",
       "<table border=\"1\" class=\"dataframe\">\n",
       "  <thead>\n",
       "    <tr style=\"text-align: right;\">\n",
       "      <th></th>\n",
       "      <th>album_id</th>\n",
       "      <th>title</th>\n",
       "      <th>artist_id</th>\n",
       "    </tr>\n",
       "  </thead>\n",
       "  <tbody>\n",
       "    <tr>\n",
       "      <th>0</th>\n",
       "      <td>1</td>\n",
       "      <td>For Those About To Rock We Salute You</td>\n",
       "      <td>1</td>\n",
       "    </tr>\n",
       "    <tr>\n",
       "      <th>1</th>\n",
       "      <td>2</td>\n",
       "      <td>Balls to the Wall</td>\n",
       "      <td>2</td>\n",
       "    </tr>\n",
       "    <tr>\n",
       "      <th>2</th>\n",
       "      <td>3</td>\n",
       "      <td>Restless and Wild</td>\n",
       "      <td>2</td>\n",
       "    </tr>\n",
       "    <tr>\n",
       "      <th>3</th>\n",
       "      <td>4</td>\n",
       "      <td>Let There Be Rock</td>\n",
       "      <td>1</td>\n",
       "    </tr>\n",
       "    <tr>\n",
       "      <th>4</th>\n",
       "      <td>5</td>\n",
       "      <td>Big Ones</td>\n",
       "      <td>3</td>\n",
       "    </tr>\n",
       "  </tbody>\n",
       "</table>\n",
       "</div>"
      ],
      "text/plain": [
       "   album_id                                  title  artist_id\n",
       "0         1  For Those About To Rock We Salute You          1\n",
       "1         2                      Balls to the Wall          2\n",
       "2         3                      Restless and Wild          2\n",
       "3         4                      Let There Be Rock          1\n",
       "4         5                               Big Ones          3"
      ]
     },
     "execution_count": 7,
     "metadata": {},
     "output_type": "execute_result"
    }
   ],
   "source": [
    "df=pd.read_sql_query('select * from album',mydb)\n",
    "df.head()"
   ]
  },
  {
   "cell_type": "code",
   "execution_count": 8,
   "metadata": {},
   "outputs": [
    {
     "name": "stdout",
     "output_type": "stream",
     "text": [
      "(347, 3)\n",
      "1041\n"
     ]
    }
   ],
   "source": [
    "print(df.shape)\n",
    "print(df.size)"
   ]
  },
  {
   "cell_type": "code",
   "execution_count": 9,
   "metadata": {},
   "outputs": [
    {
     "data": {
      "text/plain": [
       "[('album_id', 3, None, None, None, None, 1, 32768, 63),\n",
       " ('title', 252, None, None, None, None, 1, 16, 255),\n",
       " ('artist_id', 3, None, None, None, None, 1, 32768, 63)]"
      ]
     },
     "execution_count": 9,
     "metadata": {},
     "output_type": "execute_result"
    }
   ],
   "source": [
    "cur.execute('select * from album')\n",
    "cur.description"
   ]
  },
  {
   "cell_type": "code",
   "execution_count": 10,
   "metadata": {},
   "outputs": [
    {
     "name": "stdout",
     "output_type": "stream",
     "text": [
      "['album_id', 'title', 'artist_id']\n"
     ]
    }
   ],
   "source": [
    "column=[i[0] for i in cur.description]\n",
    "print(column)"
   ]
  },
  {
   "cell_type": "code",
   "execution_count": 11,
   "metadata": {},
   "outputs": [
    {
     "name": "stdout",
     "output_type": "stream",
     "text": [
      "\n",
      "Table: album\n",
      "('album_id', 'int')\n",
      "('title', 'text')\n",
      "('artist_id', 'int')\n",
      "\n",
      "Table: artist\n",
      "('artist_id', 'int')\n",
      "('name', 'text')\n",
      "\n",
      "Table: customer\n",
      "('customer_id', 'int')\n",
      "('first_name', 'text')\n",
      "('last_name', 'text')\n",
      "('company', 'text')\n",
      "('address', 'text')\n",
      "('city', 'text')\n",
      "('state', 'text')\n",
      "('country', 'text')\n",
      "('postal_code', 'text')\n",
      "('phone', 'text')\n",
      "('fax', 'text')\n",
      "('email', 'text')\n",
      "('support_rep_id', 'int')\n",
      "\n",
      "Table: employee\n",
      "('employee_id', 'int')\n",
      "('last_name', 'text')\n",
      "('first_name', 'text')\n",
      "('title', 'text')\n",
      "('reports_to', 'int')\n",
      "('levels', 'text')\n",
      "('birthdate', 'text')\n",
      "('hire_date', 'text')\n",
      "('address', 'text')\n",
      "('city', 'text')\n",
      "('state', 'text')\n",
      "('country', 'text')\n",
      "('postal_code', 'text')\n",
      "('phone', 'text')\n",
      "('fax', 'text')\n",
      "('email', 'text')\n",
      "\n",
      "Table: genre\n",
      "('genre_id', 'int')\n",
      "('name', 'text')\n",
      "\n",
      "Table: invoice\n",
      "('invoice_id', 'int')\n",
      "('customer_id', 'int')\n",
      "('invoice_date', 'text')\n",
      "('billing_address', 'text')\n",
      "('billing_city', 'text')\n",
      "('billing_state', 'text')\n",
      "('billing_country', 'text')\n",
      "('billing_postal_code', 'text')\n",
      "('total', 'double')\n",
      "\n",
      "Table: invoice_line\n",
      "('invoice_line_id', 'int')\n",
      "('invoice_id', 'int')\n",
      "('track_id', 'int')\n",
      "('unit_price', 'double')\n",
      "('quantity', 'int')\n",
      "\n",
      "Table: media_type\n",
      "('media_type_id', 'int')\n",
      "('name', 'text')\n",
      "\n",
      "Table: playlist\n",
      "('playlist_id', 'int')\n",
      "('name', 'text')\n",
      "\n",
      "Table: playlist_track\n",
      "('playlist_id', 'int')\n",
      "('track_id', 'int')\n",
      "\n",
      "Table: track\n",
      "('track_id', 'int')\n",
      "('name', 'text')\n",
      "('album_id', 'int')\n",
      "('media_type_id', 'int')\n",
      "('genre_id', 'int')\n",
      "('composer', 'text')\n",
      "('milliseconds', 'int')\n",
      "('bytes', 'int')\n",
      "('unit_price', 'double')\n"
     ]
    }
   ],
   "source": [
    "#Checking for datatypes\n",
    "for table in table_list:\n",
    "    print('\\nTable:',table)\n",
    "    column_info=cur.execute(f'''select column_name, data_type from Information_schema.columns where table_schema=\n",
    "    \"music_store\" and table_name = \"{table}\" ''')\n",
    "    for i in cur.fetchall():\n",
    "        print(i)"
   ]
  },
  {
   "cell_type": "code",
   "execution_count": 12,
   "metadata": {},
   "outputs": [
    {
     "name": "stdout",
     "output_type": "stream",
     "text": [
      "\n",
      "Table:  album\n",
      "album_id     0\n",
      "title        0\n",
      "artist_id    0\n",
      "dtype: int64\n",
      "\n",
      "Table:  artist\n",
      "artist_id    0\n",
      "name         0\n",
      "dtype: int64\n",
      "\n",
      "Table:  customer\n",
      "customer_id       0\n",
      "first_name        0\n",
      "last_name         0\n",
      "company           0\n",
      "address           0\n",
      "city              0\n",
      "state             0\n",
      "country           0\n",
      "postal_code       0\n",
      "phone             0\n",
      "fax               0\n",
      "email             0\n",
      "support_rep_id    0\n",
      "dtype: int64\n",
      "\n",
      "Table:  employee\n",
      "employee_id    0\n",
      "last_name      0\n",
      "first_name     0\n",
      "title          0\n",
      "reports_to     0\n",
      "levels         0\n",
      "birthdate      0\n",
      "hire_date      0\n",
      "address        0\n",
      "city           0\n",
      "state          0\n",
      "country        0\n",
      "postal_code    0\n",
      "phone          0\n",
      "fax            0\n",
      "email          0\n",
      "dtype: int64\n",
      "\n",
      "Table:  genre\n",
      "genre_id    0\n",
      "name        0\n",
      "dtype: int64\n",
      "\n",
      "Table:  invoice\n",
      "invoice_id             0\n",
      "customer_id            0\n",
      "invoice_date           0\n",
      "billing_address        0\n",
      "billing_city           0\n",
      "billing_state          0\n",
      "billing_country        0\n",
      "billing_postal_code    0\n",
      "total                  0\n",
      "dtype: int64\n",
      "\n",
      "Table:  invoice_line\n",
      "invoice_line_id    0\n",
      "invoice_id         0\n",
      "track_id           0\n",
      "unit_price         0\n",
      "quantity           0\n",
      "dtype: int64\n",
      "\n",
      "Table:  media_type\n",
      "media_type_id    0\n",
      "name             0\n",
      "dtype: int64\n",
      "\n",
      "Table:  playlist\n",
      "playlist_id    0\n",
      "name           0\n",
      "dtype: int64\n",
      "\n",
      "Table:  playlist_track\n",
      "playlist_id    0\n",
      "track_id       0\n",
      "dtype: int64\n",
      "\n",
      "Table:  track\n",
      "track_id         0\n",
      "name             0\n",
      "album_id         0\n",
      "media_type_id    0\n",
      "genre_id         0\n",
      "composer         0\n",
      "milliseconds     0\n",
      "bytes            0\n",
      "unit_price       0\n",
      "dtype: int64\n"
     ]
    }
   ],
   "source": [
    "#Checking for null values\n",
    "for table in table_list:\n",
    "    print('\\nTable: ',table)\n",
    "    df_table=pd.read_sql_query(f'select * from {table}',mydb)\n",
    "    print(df_table.isnull().sum())"
   ]
  },
  {
   "cell_type": "code",
   "execution_count": 13,
   "metadata": {},
   "outputs": [
    {
     "data": {
      "text/html": [
       "<div>\n",
       "<style scoped>\n",
       "    .dataframe tbody tr th:only-of-type {\n",
       "        vertical-align: middle;\n",
       "    }\n",
       "\n",
       "    .dataframe tbody tr th {\n",
       "        vertical-align: top;\n",
       "    }\n",
       "\n",
       "    .dataframe thead th {\n",
       "        text-align: right;\n",
       "    }\n",
       "</style>\n",
       "<table border=\"1\" class=\"dataframe\">\n",
       "  <thead>\n",
       "    <tr style=\"text-align: right;\">\n",
       "      <th></th>\n",
       "      <th>employee_id</th>\n",
       "      <th>last_name</th>\n",
       "      <th>first_name</th>\n",
       "      <th>title</th>\n",
       "      <th>reports_to</th>\n",
       "      <th>levels</th>\n",
       "      <th>birthdate</th>\n",
       "      <th>hire_date</th>\n",
       "      <th>address</th>\n",
       "      <th>city</th>\n",
       "      <th>state</th>\n",
       "      <th>country</th>\n",
       "      <th>postal_code</th>\n",
       "      <th>phone</th>\n",
       "      <th>fax</th>\n",
       "      <th>email</th>\n",
       "    </tr>\n",
       "  </thead>\n",
       "  <tbody>\n",
       "    <tr>\n",
       "      <th>0</th>\n",
       "      <td>1</td>\n",
       "      <td>Adams</td>\n",
       "      <td>Andrew</td>\n",
       "      <td>General Manager</td>\n",
       "      <td>9</td>\n",
       "      <td>L6</td>\n",
       "      <td>18-02-1962 00:00</td>\n",
       "      <td>14-08-2016 00:00</td>\n",
       "      <td>11120 Jasper Ave NW</td>\n",
       "      <td>Edmonton</td>\n",
       "      <td>AB</td>\n",
       "      <td>Canada</td>\n",
       "      <td>T5K 2N1</td>\n",
       "      <td>+1 (780) 428-9482</td>\n",
       "      <td>+1 (780) 428-3457</td>\n",
       "      <td>andrew@chinookcorp.com</td>\n",
       "    </tr>\n",
       "    <tr>\n",
       "      <th>1</th>\n",
       "      <td>2</td>\n",
       "      <td>Edwards</td>\n",
       "      <td>Nancy</td>\n",
       "      <td>Sales Manager</td>\n",
       "      <td>1</td>\n",
       "      <td>L4</td>\n",
       "      <td>08-12-1958 00:00</td>\n",
       "      <td>01-05-2016 00:00</td>\n",
       "      <td>825 8 Ave SW</td>\n",
       "      <td>Calgary</td>\n",
       "      <td>AB</td>\n",
       "      <td>Canada</td>\n",
       "      <td>T2P 2T3</td>\n",
       "      <td>+1 (403) 262-3443</td>\n",
       "      <td>+1 (403) 262-3322</td>\n",
       "      <td>nancy@chinookcorp.com</td>\n",
       "    </tr>\n",
       "  </tbody>\n",
       "</table>\n",
       "</div>"
      ],
      "text/plain": [
       "   employee_id last_name first_name            title  reports_to levels  \\\n",
       "0            1     Adams     Andrew  General Manager           9     L6   \n",
       "1            2   Edwards      Nancy    Sales Manager           1     L4   \n",
       "\n",
       "          birthdate         hire_date              address      city state  \\\n",
       "0  18-02-1962 00:00  14-08-2016 00:00  11120 Jasper Ave NW  Edmonton    AB   \n",
       "1  08-12-1958 00:00  01-05-2016 00:00         825 8 Ave SW   Calgary    AB   \n",
       "\n",
       "  country postal_code              phone                fax  \\\n",
       "0  Canada     T5K 2N1  +1 (780) 428-9482  +1 (780) 428-3457   \n",
       "1  Canada     T2P 2T3  +1 (403) 262-3443  +1 (403) 262-3322   \n",
       "\n",
       "                    email  \n",
       "0  andrew@chinookcorp.com  \n",
       "1   nancy@chinookcorp.com  "
      ]
     },
     "execution_count": 13,
     "metadata": {},
     "output_type": "execute_result"
    }
   ],
   "source": [
    "# 1. Who is the senior most employee based on job title?\n",
    "emp=pd.read_sql_query('select * from employee',mydb)\n",
    "emp.head(2)"
   ]
  },
  {
   "cell_type": "code",
   "execution_count": 14,
   "metadata": {},
   "outputs": [
    {
     "data": {
      "text/plain": [
       "[('Andrew Adams', 'L6')]"
      ]
     },
     "execution_count": 14,
     "metadata": {},
     "output_type": "execute_result"
    }
   ],
   "source": [
    "cur.execute('select concat(first_name,\" \", last_name) as full_name,levels from employee order by levels desc limit 1')\n",
    "cur.fetchall()"
   ]
  },
  {
   "cell_type": "code",
   "execution_count": 15,
   "metadata": {},
   "outputs": [
    {
     "data": {
      "text/plain": [
       "[(131, 'USA')]"
      ]
     },
     "execution_count": 15,
     "metadata": {},
     "output_type": "execute_result"
    }
   ],
   "source": [
    "#2. Which countries have the most Invoices?\n",
    "cur.execute('select count(*) as Number_of_invoices, billing_country from invoice group by billing_country order by Number_of_invoices desc limit 1')\n",
    "cur.fetchall()"
   ]
  },
  {
   "cell_type": "code",
   "execution_count": 16,
   "metadata": {},
   "outputs": [
    {
     "data": {
      "text/html": [
       "<div>\n",
       "<style scoped>\n",
       "    .dataframe tbody tr th:only-of-type {\n",
       "        vertical-align: middle;\n",
       "    }\n",
       "\n",
       "    .dataframe tbody tr th {\n",
       "        vertical-align: top;\n",
       "    }\n",
       "\n",
       "    .dataframe thead th {\n",
       "        text-align: right;\n",
       "    }\n",
       "</style>\n",
       "<table border=\"1\" class=\"dataframe\">\n",
       "  <thead>\n",
       "    <tr style=\"text-align: right;\">\n",
       "      <th></th>\n",
       "      <th>invoice_id</th>\n",
       "      <th>customer_id</th>\n",
       "      <th>invoice_date</th>\n",
       "      <th>billing_address</th>\n",
       "      <th>billing_city</th>\n",
       "      <th>billing_state</th>\n",
       "      <th>billing_country</th>\n",
       "      <th>billing_postal_code</th>\n",
       "      <th>total</th>\n",
       "    </tr>\n",
       "  </thead>\n",
       "  <tbody>\n",
       "    <tr>\n",
       "      <th>0</th>\n",
       "      <td>1</td>\n",
       "      <td>18</td>\n",
       "      <td>2017-01-03 00:00:00</td>\n",
       "      <td>627 Broadway</td>\n",
       "      <td>New York</td>\n",
       "      <td>NY</td>\n",
       "      <td>USA</td>\n",
       "      <td>10012-2612</td>\n",
       "      <td>15.84</td>\n",
       "    </tr>\n",
       "    <tr>\n",
       "      <th>1</th>\n",
       "      <td>2</td>\n",
       "      <td>30</td>\n",
       "      <td>2017-01-03 00:00:00</td>\n",
       "      <td>230 Elgin Street</td>\n",
       "      <td>Ottawa</td>\n",
       "      <td>ON</td>\n",
       "      <td>Canada</td>\n",
       "      <td>K2P 1L7</td>\n",
       "      <td>9.90</td>\n",
       "    </tr>\n",
       "  </tbody>\n",
       "</table>\n",
       "</div>"
      ],
      "text/plain": [
       "   invoice_id  customer_id         invoice_date   billing_address  \\\n",
       "0           1           18  2017-01-03 00:00:00      627 Broadway   \n",
       "1           2           30  2017-01-03 00:00:00  230 Elgin Street   \n",
       "\n",
       "  billing_city billing_state billing_country billing_postal_code  total  \n",
       "0     New York            NY             USA          10012-2612  15.84  \n",
       "1       Ottawa            ON          Canada             K2P 1L7   9.90  "
      ]
     },
     "execution_count": 16,
     "metadata": {},
     "output_type": "execute_result"
    }
   ],
   "source": [
    "# Q3) What are top 3 values of total invoice?\n",
    "invoice=pd.read_sql_query('select * from invoice',mydb)\n",
    "invoice.head(2)"
   ]
  },
  {
   "cell_type": "code",
   "execution_count": 17,
   "metadata": {},
   "outputs": [
    {
     "data": {
      "text/plain": [
       "[(23.759999999999998,), (19.8,), (19.8,)]"
      ]
     },
     "execution_count": 17,
     "metadata": {},
     "output_type": "execute_result"
    }
   ],
   "source": [
    "cur.execute('select total from invoice order by total desc limit 3')\n",
    "cur.fetchall()"
   ]
  },
  {
   "cell_type": "code",
   "execution_count": 18,
   "metadata": {},
   "outputs": [
    {
     "data": {
      "text/plain": [
       "[('Prague', 273.24000000000007)]"
      ]
     },
     "execution_count": 18,
     "metadata": {},
     "output_type": "execute_result"
    }
   ],
   "source": [
    "# Q4) Which city has the best customers? We would like to throw a promotional music festival in the city we made the most money. \n",
    "# Write a query that returns one city that has the highest sum of invoices totals. Return both the city name & sum of all invoices\n",
    "# totals\n",
    "cur.execute('select billing_city,sum(total) as invoice_total from invoice group by billing_city order by invoice_total desc limit 1')\n",
    "cur.fetchall()"
   ]
  },
  {
   "cell_type": "code",
   "execution_count": 19,
   "metadata": {},
   "outputs": [
    {
     "data": {
      "text/plain": [
       "[('FrantiÅ¡ek WichterlovÃ¡', 144.54000000000002)]"
      ]
     },
     "execution_count": 19,
     "metadata": {},
     "output_type": "execute_result"
    }
   ],
   "source": [
    "# Q5) Who is the best customer? The customer who has spent the most money will be declared as the best customer.\n",
    "# Write a query that returns the person who has spent the most money.\n",
    "cur.execute('select concat(c.first_name, \" \", c.last_name)as full_name, sum(i.total) as total from customer as c join invoice as i on c.customer_id=i.customer_id group by i.customer_id order by total desc limit 1')\n",
    "cur.fetchall()"
   ]
  },
  {
   "cell_type": "code",
   "execution_count": 20,
   "metadata": {},
   "outputs": [
    {
     "data": {
      "text/plain": [
       "[('aaronmitchell@yahoo.ca', 'Aaron Mitchell'),\n",
       " ('alero@uol.com.br', 'Alexandre Rocha'),\n",
       " ('astrid.gruber@apple.at', 'Astrid Gruber'),\n",
       " ('bjorn.hansen@yahoo.no', 'BjÃ¸rn Hansen'),\n",
       " ('camille.bernard@yahoo.fr', 'Camille Bernard'),\n",
       " ('daan_peeters@apple.be', 'Daan Peeters'),\n",
       " ('diego.gutierrez@yahoo.ar', 'Diego GutiÃ©rrez'),\n",
       " ('dmiller@comcast.com', 'Dan Miller'),\n",
       " ('dominiquelefebvre@gmail.com', 'Dominique Lefebvre'),\n",
       " ('edfrancis@yachoo.ca', 'Edward Francis'),\n",
       " ('eduardo@woodstock.com.br', 'Eduardo Martins'),\n",
       " ('ellie.sullivan@shaw.ca', 'Ellie Sullivan'),\n",
       " ('emma_jones@hotmail.com', 'Emma Jones'),\n",
       " ('enrique_munoz@yahoo.es', 'Enrique MuÃ±oz'),\n",
       " ('fernadaramos4@uol.com.br', 'Fernanda Ramos'),\n",
       " ('fharris@google.com', 'Frank Harris'),\n",
       " ('fralston@gmail.com', 'Frank Ralston'),\n",
       " ('frantisekw@jetbrains.com', 'FrantiÅ¡ek WichterlovÃ¡'),\n",
       " ('ftremblay@gmail.com', 'FranÃ§ois Tremblay'),\n",
       " ('fzimmermann@yahoo.de', 'Fynn Zimmermann'),\n",
       " ('hannah.schneider@yahoo.de', 'Hannah Schneider'),\n",
       " ('hholy@gmail.com', 'Helena HolÃ½'),\n",
       " ('hleacock@gmail.com', 'Heather Leacock'),\n",
       " ('hughoreilly@apple.ie', \"Hugh O'Reilly\"),\n",
       " ('isabelle_mercier@apple.fr', 'Isabelle Mercier'),\n",
       " ('jacksmith@microsoft.com', 'Jack Smith'),\n",
       " ('jenniferp@rogers.ca', 'Jennifer Peterson'),\n",
       " ('jfernandes@yahoo.pt', 'JoÃ£o Fernandes'),\n",
       " ('joakim.johansson@yahoo.se', 'Joakim Johansson'),\n",
       " ('johavanderberg@yahoo.nl', 'Johannes Van der Berg'),\n",
       " ('johngordon22@yahoo.com', 'John Gordon'),\n",
       " ('jubarnett@gmail.com', 'Julia Barnett'),\n",
       " ('kachase@hotmail.com', 'Kathy Chase'),\n",
       " ('kara.nielsen@jubii.dk', 'Kara Nielsen'),\n",
       " ('ladislav_kovacs@apple.hu', 'Ladislav KovÃ¡cs'),\n",
       " ('leonekohler@surfeu.de', 'Leonie KÃ¶hler'),\n",
       " ('lucas.mancini@yahoo.it', 'Lucas Mancini'),\n",
       " ('luisg@embraer.com.br', 'LuÃ\\xads GonÃ§alves'),\n",
       " ('luisrojas@yahoo.cl', 'Luis Rojas'),\n",
       " ('manoj.pareek@rediff.com', 'Manoj Pareek'),\n",
       " ('marc.dubois@hotmail.com', 'Marc Dubois'),\n",
       " ('mark.taylor@yahoo.au', 'Mark Taylor'),\n",
       " ('marthasilk@gmail.com', 'Martha Silk'),\n",
       " ('masampaio@sapo.pt', 'Madalena Sampaio'),\n",
       " ('mphilips12@shaw.ca', 'Mark Philips'),\n",
       " ('nschroder@surfeu.de', 'Niklas SchrÃ¶der'),\n",
       " ('patrick.gray@aol.com', 'Patrick Gray'),\n",
       " ('phil.hughes@gmail.com', 'Phil Hughes'),\n",
       " ('ricunningham@hotmail.com', 'Richard Cunningham'),\n",
       " ('rishabh_mishra@yahoo.in', 'Rishabh Mishra'),\n",
       " ('robbrown@shaw.ca', 'Robert Brown'),\n",
       " ('roberto.almeida@riotur.gov.br', 'Roberto Almeida'),\n",
       " ('stanisÅ‚aw.wÃ³jcik@wp.pl', 'StanisÅ‚aw WÃ³jcik'),\n",
       " ('steve.murray@yahoo.uk', 'Steve Murray'),\n",
       " ('terhi.hamalainen@apple.fi', 'Terhi HÃ¤mÃ¤lÃ¤inen'),\n",
       " ('tgoyer@apple.com', 'Tim Goyer'),\n",
       " ('vstevens@yahoo.com', 'Victor Stevens'),\n",
       " ('wyatt.girard@yahoo.fr', 'Wyatt Girard')]"
      ]
     },
     "execution_count": 20,
     "metadata": {},
     "output_type": "execute_result"
    }
   ],
   "source": [
    "# Q6) Write a query to return the email, first name, last name and genre of all rock music listeners.\n",
    "# Return your list alphabetically by email starting with A.\n",
    "cur.execute('''select distinct email, concat(first_name, \" \", last_name) as full_name from customer join invoice on \n",
    "customer.customer_id = invoice.customer_id join invoice_line on invoice.invoice_id = invoice_line.invoice_id where track_id in \n",
    "(select track_id from track join genre on track.genre_id=genre.genre_id where genre.name like \"Rock\") order by email''')\n",
    "cur.fetchall()"
   ]
  },
  {
   "cell_type": "code",
   "execution_count": 21,
   "metadata": {},
   "outputs": [
    {
     "data": {
      "text/plain": [
       "[(1, 'AC/DC', 18),\n",
       " (3, 'Aerosmith', 15),\n",
       " (8, 'Audioslave', 14),\n",
       " (22, 'Led Zeppelin', 14),\n",
       " (4, 'Alanis Morissette', 13),\n",
       " (5, 'Alice In Chains', 12),\n",
       " (23, 'Frank Zappa & Captain Beefheart', 9),\n",
       " (2, 'Accept', 4)]"
      ]
     },
     "execution_count": 21,
     "metadata": {},
     "output_type": "execute_result"
    }
   ],
   "source": [
    "#Q7 Let's invite the artists who have written the most rock music in our dataset. Write a query that returns the Artist name \n",
    "# and total track count of the top 10 rock bands.\n",
    "cur.execute('''select artist.artist_id,artist.name,count(track.track_id) as track_count from artist join album \n",
    "on artist.artist_id=album.artist_id join track on album.album_id=track.album_id join genre\n",
    "on track.genre_id=genre.genre_id where genre.name like \"Rock\" group by artist.artist_id order by track_count desc limit 10''')\n",
    "cur.fetchall()"
   ]
  },
  {
   "cell_type": "code",
   "execution_count": 22,
   "metadata": {},
   "outputs": [
    {
     "data": {
      "text/plain": [
       "[('How Many More Times', 711836),\n",
       " ('Advance Romance', 677694),\n",
       " ('Sleeping Village', 644571),\n",
       " ('You Shook Me(2)', 619467),\n",
       " (\"Talkin' 'Bout Women Obviously\", 589531),\n",
       " ('Stratus', 582086),\n",
       " ('No More Tears', 555075),\n",
       " ('The Alchemist', 509413),\n",
       " ('Wheels Of Confusion / The Straightener', 494524),\n",
       " ('Book Of Thel', 494393),\n",
       " ('You Oughta Know (Alternate)', 491885),\n",
       " ('Terra', 482429),\n",
       " (\"Snoopy's search-Red baron\", 456071),\n",
       " ('Sozinho (Hitmakers Classic Mix)', 436636),\n",
       " ('Master Of Puppets', 436453),\n",
       " ('Stone Crazy', 433397),\n",
       " ('Snowblind', 420022),\n",
       " ('Computadores Fazem Arte', 404323),\n",
       " ('Jerusalem', 402390),\n",
       " ('Dazed and Confused', 401920),\n",
       " ('The Winner Loses', 392254),\n",
       " ('Love, Hate, Love', 387134),\n",
       " ('ConstruÃ§Ã£o / Deus Lhe Pague', 383059),\n",
       " ('Black Sabbath', 382066),\n",
       " (\"Livin' On The Edge\", 381231),\n",
       " (\"I Can't Quit You Baby(2)\", 380551),\n",
       " ('Princess of the Dawn', 375418),\n",
       " ('Harvester Of Sorrow', 374543),\n",
       " ('Whole Lotta Love', 373394),\n",
       " (\"Momma's Gotta Die Tonight\", 371539),\n",
       " ('Vai Passar', 369763),\n",
       " ('Wherever I May Roam', 369345),\n",
       " ('Overdose', 369319),\n",
       " ('N.I.B.', 368770),\n",
       " ('O Boto (BÃ´to)', 366837),\n",
       " ('Let There Be Rock', 366654),\n",
       " ('The Begining... At Last', 365662),\n",
       " ('Carolina Hard-Core Ecstasy', 359680),\n",
       " ('World Of Trouble', 359157),\n",
       " ('Trupets Of Jericho', 359131),\n",
       " ('Amazing', 356519),\n",
       " ('Under The Sun/Every Day Comes and Goes', 350458),\n",
       " ('Welcome Home (Sanitarium)', 350197),\n",
       " ('There Goes The Neighborhood', 350171),\n",
       " ('Sea Of Sorrow', 349831),\n",
       " ('Confusion', 344163),\n",
       " ('For Those About To Rock (We Salute You)', 343719),\n",
       " ('Shadow on the Sun', 343457),\n",
       " ('Balls to the Wall', 342562),\n",
       " ('Machine Men', 341655),\n",
       " ('I am the Highway', 334942),\n",
       " ('Muffin Man', 332878),\n",
       " ('Snowblind', 331676),\n",
       " ('Go Down', 331180),\n",
       " (\"Janie's Got A Gun\", 330736),\n",
       " (\"Bring'em Back Alive\", 329534),\n",
       " (\"Sozinho (CaÃªdrum 'n' Bass)\", 328071),\n",
       " ('Problem Child', 325041),\n",
       " ('Whole Lotta Rosie', 323761),\n",
       " ('Intro/ Low Down', 323683),\n",
       " ('The Unforgiven', 322925),\n",
       " ('Love In An Elevator', 321828),\n",
       " ('Super Terrorizer', 319373),\n",
       " ('The pleasant pheasant', 318066),\n",
       " ('Body Count', 317936),\n",
       " ('Geni E O Zepelim', 317570),\n",
       " ('The Last Remaining Light', 317492),\n",
       " ('Crazy', 316656),\n",
       " ('You Shook Me', 315951),\n",
       " ('Travelling Riverside Blues', 312032),\n",
       " ('Noite Do Prazer', 311353),\n",
       " ('What It Takes', 310622),\n",
       " ('The Curse', 309786),\n",
       " (\"Cryin'\", 309263),\n",
       " ('Creeping Death', 308035),\n",
       " ('Angel', 307617),\n",
       " ('AtrÃ¡s Da Verd-E-Rosa SÃ³ NÃ£o Vai Quem JÃ¡ Morreu', 307252),\n",
       " ('Banditismo Por Uma Questa', 307095),\n",
       " ('Extra', 304352),\n",
       " ('Light My Way', 303595),\n",
       " ('Stronger Than Death', 300747),\n",
       " ('Voodoo', 300721),\n",
       " ('Forgiven', 300355),\n",
       " ('Getaway Car', 299598),\n",
       " ('Linha Do Equador', 299337),\n",
       " ('#1 Zero', 299102),\n",
       " ('Onde VocÃª Mora?', 298396),\n",
       " ('Walk On Water', 295680),\n",
       " ('Mel', 294765),\n",
       " ('Moon germs', 294060),\n",
       " ('Like a Stone', 294034),\n",
       " ('Wake Up', 293485),\n",
       " ('Out Of Exile', 291291),\n",
       " ('Na Frente Da TV', 289750),\n",
       " ('Sad But True', 288208),\n",
       " ('Rios Pontes & Overdrives', 286720),\n",
       " ('Man In The Box', 286641),\n",
       " ('Changes', 286275),\n",
       " ('Supernaut', 285779),\n",
       " ('The Tower', 285257),\n",
       " ('A Sombra Da Maldade', 285231),\n",
       " ('Garota De Ipanema', 285048),\n",
       " ('Sunshine', 284969),\n",
       " ('All I Really Want', 284891),\n",
       " ('Blood In The Wall', 284368),\n",
       " ('Maracatu AtÃ´mico', 284264),\n",
       " ('Lost My Better Half', 284081),\n",
       " ('Bye, Bye Brasil', 283402),\n",
       " ('King In Crimson', 283167),\n",
       " ('Gavioes 2001', 282723),\n",
       " ('A Estrada', 282174),\n",
       " ('Born To Booze', 282122),\n",
       " ('Vida Boa', 281730),\n",
       " ('Freedom Of Speech', 281234),\n",
       " ('Mary Jane', 280607),\n",
       " ('Be Yourself', 279484),\n",
       " ('Gasoline', 279457),\n",
       " ('Dandelion', 278125),\n",
       " ('Show Me How to Live', 277890),\n",
       " (\"It Ain't Like That\", 277577),\n",
       " (\"Heaven's Dead\", 276688),\n",
       " ('Like A Bird', 276532),\n",
       " ('Vai-Vai 2001', 276349),\n",
       " ('Flor Do Futuro', 275748),\n",
       " ('Do what cha wanna', 274155),\n",
       " ('X-9 2001', 273920),\n",
       " ('Yesterday To Tomorrow', 273763),\n",
       " ('Phoney Smile Fake Hellos', 273606),\n",
       " ('Maracatu AtÃ´mico [Atomic Version]', 273084),\n",
       " ('A Cor Do Sol', 273031),\n",
       " ('200 Years Old', 272561),\n",
       " ('Samidarish [instrumental]', 272431),\n",
       " ('The Beginning...At Last', 271960),\n",
       " ('Canta, Canta Mais', 271856),\n",
       " ('Samba Makossa', 271856),\n",
       " ('Spellbound', 270863),\n",
       " ('Killing Floor', 269557),\n",
       " ('Bad Boy Boogie', 267728),\n",
       " ('Head Over Feet', 267493),\n",
       " ('SÃ¡bado A Noite', 267363),\n",
       " ('Felicidade Urgente', 266605),\n",
       " ('A.N.D.R.O.T.A.Z.', 266266),\n",
       " ('Gates Of Urizen', 265351),\n",
       " ('Dude (Looks Like A Lady)', 264855),\n",
       " ('The Wizard', 264829),\n",
       " ('Rag Doll', 264698),\n",
       " ('FÃ©rias', 264202),\n",
       " (\"I Can't Quit You Baby\", 263836),\n",
       " ('Evil Walks', 263497),\n",
       " ('Breaking The Rules', 263288),\n",
       " ('Set It Off', 263262),\n",
       " ('I Know Somethin (Bout You)', 261955),\n",
       " ('Quadrant', 261851),\n",
       " ('What is and Should Never Be', 260675),\n",
       " ('Meu Caro Amigo', 260257),\n",
       " ('ConciliaÃ§Ã£o', 257619),\n",
       " ('Onde VocÃª Mora?', 256026),\n",
       " (\"Doesn't Remind Me\", 255869),\n",
       " ('Your Time Has Come', 255529),\n",
       " ('Johnny B. Goode', 254615),\n",
       " (\"Hell Ain't A Bad Place To Be\", 254380),\n",
       " ('Amor Demais', 254040),\n",
       " ('Cada Um Cada Um (A Namoradeira)', 253492),\n",
       " ('Dindi (Dindi)', 253178),\n",
       " ('Restless and Wild', 252051),\n",
       " ('Ligia', 251977),\n",
       " ('A Luz De Tieta', 251742),\n",
       " ('Da Lama Ao Caos', 251559)]"
      ]
     },
     "execution_count": 22,
     "metadata": {},
     "output_type": "execute_result"
    }
   ],
   "source": [
    "#Q8 Return all the track names that have a song length longer than the average song length. Return the Name and Milliseconds\n",
    "# for each track. Order by the song length with the longest songs listed first.\n",
    "cur.execute('''select name,milliseconds from track where milliseconds > (select avg(milliseconds) from track) \n",
    "order by milliseconds desc''')\n",
    "cur.fetchall()"
   ]
  },
  {
   "cell_type": "code",
   "execution_count": 26,
   "metadata": {},
   "outputs": [
    {
     "data": {
      "text/plain": [
       "[(54, 'Steve Murray', 'AC/DC', 17.82),\n",
       " (53, 'Phil Hughes', 'AC/DC', 10.89),\n",
       " (21, 'Kathy Chase', 'AC/DC', 10.89),\n",
       " (49, 'StanisÅ‚aw WÃ³jcik', 'AC/DC', 9.9),\n",
       " (1, 'LuÃ\\xads GonÃ§alves', 'AC/DC', 7.920000000000001),\n",
       " (24, 'Frank Ralston', 'AC/DC', 7.920000000000001),\n",
       " (31, 'Martha Silk', 'AC/DC', 3.96),\n",
       " (16, 'Frank Harris', 'AC/DC', 2.9699999999999998),\n",
       " (42, 'Wyatt Girard', 'AC/DC', 2.9699999999999998),\n",
       " (6, 'Helena HolÃ½', 'AC/DC', 2.9699999999999998),\n",
       " (38, 'Niklas SchrÃ¶der', 'AC/DC', 2.9699999999999998),\n",
       " (35, 'Madalena Sampaio', 'AC/DC', 2.9699999999999998),\n",
       " (44, 'Terhi HÃ¤mÃ¤lÃ¤inen', 'AC/DC', 2.9699999999999998),\n",
       " (9, 'Kara Nielsen', 'AC/DC', 1.98),\n",
       " (34, 'JoÃ£o Fernandes', 'AC/DC', 1.98),\n",
       " (57, 'Luis Rojas', 'AC/DC', 1.98),\n",
       " (27, 'Patrick Gray', 'AC/DC', 1.98),\n",
       " (20, 'Dan Miller', 'AC/DC', 1.98),\n",
       " (30, 'Edward Francis', 'AC/DC', 1.98),\n",
       " (5, 'FrantiÅ¡ek WichterlovÃ¡', 'AC/DC', 1.98),\n",
       " (47, 'Lucas Mancini', 'AC/DC', 0.99),\n",
       " (43, 'Isabelle Mercier', 'AC/DC', 0.99),\n",
       " (19, 'Tim Goyer', 'AC/DC', 0.99),\n",
       " (39, 'Camille Bernard', 'AC/DC', 0.99),\n",
       " (8, 'Daan Peeters', 'AC/DC', 0.99),\n",
       " (15, 'Jennifer Peterson', 'AC/DC', 0.99),\n",
       " (58, 'Manoj Pareek', 'AC/DC', 0.99),\n",
       " (46, \"Hugh O'Reilly\", 'AC/DC', 0.99),\n",
       " (32, 'Aaron Mitchell', 'AC/DC', 0.99),\n",
       " (45, 'Ladislav KovÃ¡cs', 'AC/DC', 0.99),\n",
       " (29, 'Robert Brown', 'AC/DC', 0.99),\n",
       " (26, 'Richard Cunningham', 'AC/DC', 0.99),\n",
       " (17, 'Jack Smith', 'AC/DC', 0.99),\n",
       " (14, 'Mark Philips', 'AC/DC', 0.99),\n",
       " (2, 'Leonie KÃ¶hler', 'AC/DC', 0.99),\n",
       " (56, 'Diego GutiÃ©rrez', 'AC/DC', 0.99),\n",
       " (48, 'Johannes Van der Berg', 'AC/DC', 0.99),\n",
       " (13, 'Fernanda Ramos', 'AC/DC', 0.99),\n",
       " (55, 'Mark Taylor', 'AC/DC', 0.99),\n",
       " (7, 'Astrid Gruber', 'AC/DC', 0.99),\n",
       " (59, 'Rishabh Mishra', 'AC/DC', 0.99),\n",
       " (10, 'Eduardo Martins', 'AC/DC', 0.99)]"
      ]
     },
     "execution_count": 26,
     "metadata": {},
     "output_type": "execute_result"
    }
   ],
   "source": [
    "#Q9Find how much amount spent by each customer on artists?Write a query to return customer name, artist name and total spent\n",
    "cur.execute('''select c.customer_id,concat(c.first_name, \" \", last_name) as full_name, bsa.artist_name,\n",
    "            sum(il.unit_price*il.quantity)\n",
    "            as amount_spent from invoice as i\n",
    "\t\t\tjoin customer as c on i.customer_id=c.customer_id join invoice_line as il on il.invoice_id=i.invoice_id join track \n",
    "            as t on t.track_id=il.track_id join album as alb\n",
    "            on alb.album_id=t.album_id join (select concat(c.first_name, \" \",c.last_name) as full_name,\n",
    "            a.name as artist_name,\n",
    "            a.artist_id as artistID,\n",
    "            sum(il.unit_price*il.quantity) as total_sale\n",
    "            from artist as a \n",
    "            join album as al on a.artist_id=al.artist_id \n",
    "            join track on track.album_id=al.album_id\n",
    "            join invoice_line as il on track.track_id=il.track_id \n",
    "            join invoice on invoice.invoice_id=il.invoice_id \n",
    "            join customer as c on c.customer_id=invoice.customer_id \n",
    "            group by 3 order by 4 desc limit 1) as bsa on bsa.artistID=alb.artist_id group by 1,2,3 order \n",
    "            by 4 desc\n",
    "            ''')\n",
    "cur.fetchall()"
   ]
  },
  {
   "cell_type": "code",
   "execution_count": null,
   "metadata": {},
   "outputs": [],
   "source": [
    "# Q10 We want to find out the most popular music Genre for each country. We determine the most popular genre as the genre with\n",
    "# the highest amount of purchases. Write a query that returns each country along with the top Genre.\n",
    "# For countries where the maximum number of purchases is shared return all Genres\n",
    "cur.execute()\n",
    "cur.fetchall()"
   ]
  },
  {
   "cell_type": "code",
   "execution_count": null,
   "metadata": {},
   "outputs": [],
   "source": []
  }
 ],
 "metadata": {
  "kernelspec": {
   "display_name": "Python 3",
   "language": "python",
   "name": "python3"
  },
  "language_info": {
   "codemirror_mode": {
    "name": "ipython",
    "version": 3
   },
   "file_extension": ".py",
   "mimetype": "text/x-python",
   "name": "python",
   "nbconvert_exporter": "python",
   "pygments_lexer": "ipython3",
   "version": "3.9.0"
  }
 },
 "nbformat": 4,
 "nbformat_minor": 2
}
