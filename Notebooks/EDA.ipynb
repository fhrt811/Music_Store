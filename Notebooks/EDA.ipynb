{
 "cells": [
  {
   "cell_type": "code",
   "execution_count": 21,
   "metadata": {},
   "outputs": [],
   "source": [
    "import pandas as pd\n",
    "import numpy as np\n",
    "import mysql.connector as conn\n",
    "import warnings\n",
    "warnings.filterwarnings('ignore')"
   ]
  },
  {
   "cell_type": "code",
   "execution_count": 22,
   "metadata": {},
   "outputs": [],
   "source": [
    "mydb=conn.connect(host='localhost', user='root', password='password',auth_plugin='mysql_native_password')"
   ]
  },
  {
   "cell_type": "code",
   "execution_count": 23,
   "metadata": {},
   "outputs": [],
   "source": [
    "cur=mydb.cursor(buffered=True)"
   ]
  },
  {
   "cell_type": "code",
   "execution_count": 24,
   "metadata": {},
   "outputs": [],
   "source": [
    "cur.execute('use music_store')"
   ]
  },
  {
   "cell_type": "code",
   "execution_count": 25,
   "metadata": {},
   "outputs": [],
   "source": [
    "cur.execute('show tables')\n",
    "table_list=[table[0] for table in cur.fetchall()]"
   ]
  },
  {
   "cell_type": "code",
   "execution_count": 26,
   "metadata": {},
   "outputs": [
    {
     "data": {
      "text/plain": [
       "['album',\n",
       " 'artist',\n",
       " 'customer',\n",
       " 'employee',\n",
       " 'genre',\n",
       " 'invoice',\n",
       " 'invoice_line',\n",
       " 'media_type',\n",
       " 'playlist',\n",
       " 'playlist_track',\n",
       " 'track']"
      ]
     },
     "execution_count": 26,
     "metadata": {},
     "output_type": "execute_result"
    }
   ],
   "source": [
    "table_list"
   ]
  },
  {
   "cell_type": "code",
   "execution_count": 29,
   "metadata": {},
   "outputs": [
    {
     "data": {
      "text/html": [
       "<div>\n",
       "<style scoped>\n",
       "    .dataframe tbody tr th:only-of-type {\n",
       "        vertical-align: middle;\n",
       "    }\n",
       "\n",
       "    .dataframe tbody tr th {\n",
       "        vertical-align: top;\n",
       "    }\n",
       "\n",
       "    .dataframe thead th {\n",
       "        text-align: right;\n",
       "    }\n",
       "</style>\n",
       "<table border=\"1\" class=\"dataframe\">\n",
       "  <thead>\n",
       "    <tr style=\"text-align: right;\">\n",
       "      <th></th>\n",
       "      <th>album_id</th>\n",
       "      <th>title</th>\n",
       "      <th>artist_id</th>\n",
       "    </tr>\n",
       "  </thead>\n",
       "  <tbody>\n",
       "    <tr>\n",
       "      <th>0</th>\n",
       "      <td>1</td>\n",
       "      <td>For Those About To Rock We Salute You</td>\n",
       "      <td>1</td>\n",
       "    </tr>\n",
       "    <tr>\n",
       "      <th>1</th>\n",
       "      <td>2</td>\n",
       "      <td>Balls to the Wall</td>\n",
       "      <td>2</td>\n",
       "    </tr>\n",
       "    <tr>\n",
       "      <th>2</th>\n",
       "      <td>3</td>\n",
       "      <td>Restless and Wild</td>\n",
       "      <td>2</td>\n",
       "    </tr>\n",
       "    <tr>\n",
       "      <th>3</th>\n",
       "      <td>4</td>\n",
       "      <td>Let There Be Rock</td>\n",
       "      <td>1</td>\n",
       "    </tr>\n",
       "    <tr>\n",
       "      <th>4</th>\n",
       "      <td>5</td>\n",
       "      <td>Big Ones</td>\n",
       "      <td>3</td>\n",
       "    </tr>\n",
       "  </tbody>\n",
       "</table>\n",
       "</div>"
      ],
      "text/plain": [
       "   album_id                                  title  artist_id\n",
       "0         1  For Those About To Rock We Salute You          1\n",
       "1         2                      Balls to the Wall          2\n",
       "2         3                      Restless and Wild          2\n",
       "3         4                      Let There Be Rock          1\n",
       "4         5                               Big Ones          3"
      ]
     },
     "execution_count": 29,
     "metadata": {},
     "output_type": "execute_result"
    }
   ],
   "source": [
    "df=pd.read_sql_query('select * from album',mydb)\n",
    "df.head()"
   ]
  },
  {
   "cell_type": "code",
   "execution_count": 30,
   "metadata": {},
   "outputs": [
    {
     "name": "stdout",
     "output_type": "stream",
     "text": [
      "(347, 3)\n",
      "1041\n"
     ]
    }
   ],
   "source": [
    "print(df.shape)\n",
    "print(df.size)"
   ]
  },
  {
   "cell_type": "code",
   "execution_count": 33,
   "metadata": {},
   "outputs": [
    {
     "data": {
      "text/plain": [
       "[('album_id', 3, None, None, None, None, 1, 32768, 63),\n",
       " ('title', 252, None, None, None, None, 1, 16, 255),\n",
       " ('artist_id', 3, None, None, None, None, 1, 32768, 63)]"
      ]
     },
     "execution_count": 33,
     "metadata": {},
     "output_type": "execute_result"
    }
   ],
   "source": [
    "cur.execute('select * from album')\n",
    "cur.description"
   ]
  },
  {
   "cell_type": "code",
   "execution_count": 34,
   "metadata": {},
   "outputs": [
    {
     "name": "stdout",
     "output_type": "stream",
     "text": [
      "['album_id', 'title', 'artist_id']\n"
     ]
    }
   ],
   "source": [
    "column=[i[0] for i in cur.description]\n",
    "print(column)"
   ]
  },
  {
   "cell_type": "code",
   "execution_count": 35,
   "metadata": {},
   "outputs": [
    {
     "name": "stdout",
     "output_type": "stream",
     "text": [
      "\n",
      "Table: album\n",
      "('album_id', 'int')\n",
      "('title', 'text')\n",
      "('artist_id', 'int')\n",
      "\n",
      "Table: artist\n",
      "('artist_id', 'int')\n",
      "('name', 'text')\n",
      "\n",
      "Table: customer\n",
      "('customer_id', 'int')\n",
      "('first_name', 'text')\n",
      "('last_name', 'text')\n",
      "('company', 'text')\n",
      "('address', 'text')\n",
      "('city', 'text')\n",
      "('state', 'text')\n",
      "('country', 'text')\n",
      "('postal_code', 'text')\n",
      "('phone', 'text')\n",
      "('fax', 'text')\n",
      "('email', 'text')\n",
      "('support_rep_id', 'int')\n",
      "\n",
      "Table: employee\n",
      "('employee_id', 'int')\n",
      "('last_name', 'text')\n",
      "('first_name', 'text')\n",
      "('title', 'text')\n",
      "('reports_to', 'int')\n",
      "('levels', 'text')\n",
      "('birthdate', 'text')\n",
      "('hire_date', 'text')\n",
      "('address', 'text')\n",
      "('city', 'text')\n",
      "('state', 'text')\n",
      "('country', 'text')\n",
      "('postal_code', 'text')\n",
      "('phone', 'text')\n",
      "('fax', 'text')\n",
      "('email', 'text')\n",
      "\n",
      "Table: genre\n",
      "('genre_id', 'int')\n",
      "('name', 'text')\n",
      "\n",
      "Table: invoice\n",
      "('invoice_id', 'int')\n",
      "('customer_id', 'int')\n",
      "('invoice_date', 'text')\n",
      "('billing_address', 'text')\n",
      "('billing_city', 'text')\n",
      "('billing_state', 'text')\n",
      "('billing_country', 'text')\n",
      "('billing_postal_code', 'text')\n",
      "('total', 'double')\n",
      "\n",
      "Table: invoice_line\n",
      "('invoice_line_id', 'int')\n",
      "('invoice_id', 'int')\n",
      "('track_id', 'int')\n",
      "('unit_price', 'double')\n",
      "('quantity', 'int')\n",
      "\n",
      "Table: media_type\n",
      "('media_type_id', 'int')\n",
      "('name', 'text')\n",
      "\n",
      "Table: playlist\n",
      "('playlist_id', 'int')\n",
      "('name', 'text')\n",
      "\n",
      "Table: playlist_track\n",
      "('playlist_id', 'int')\n",
      "('track_id', 'int')\n",
      "\n",
      "Table: track\n",
      "('track_id', 'int')\n",
      "('name', 'text')\n",
      "('album_id', 'int')\n",
      "('media_type_id', 'int')\n",
      "('genre_id', 'int')\n",
      "('composer', 'text')\n",
      "('milliseconds', 'int')\n",
      "('bytes', 'int')\n",
      "('unit_price', 'double')\n"
     ]
    }
   ],
   "source": [
    "#Checking for datatypes\n",
    "for table in table_list:\n",
    "    print('\\nTable:',table)\n",
    "    column_info=cur.execute(f'''select column_name, data_type from Information_schema.columns where table_schema=\n",
    "    \"music_store\" and table_name = \"{table}\" ''')\n",
    "    for i in cur.fetchall():\n",
    "        print(i)"
   ]
  },
  {
   "cell_type": "code",
   "execution_count": 36,
   "metadata": {},
   "outputs": [
    {
     "name": "stdout",
     "output_type": "stream",
     "text": [
      "\n",
      "Table:  album\n",
      "album_id     0\n",
      "title        0\n",
      "artist_id    0\n",
      "dtype: int64\n",
      "\n",
      "Table:  artist\n",
      "artist_id    0\n",
      "name         0\n",
      "dtype: int64\n",
      "\n",
      "Table:  customer\n",
      "customer_id       0\n",
      "first_name        0\n",
      "last_name         0\n",
      "company           0\n",
      "address           0\n",
      "city              0\n",
      "state             0\n",
      "country           0\n",
      "postal_code       0\n",
      "phone             0\n",
      "fax               0\n",
      "email             0\n",
      "support_rep_id    0\n",
      "dtype: int64\n",
      "\n",
      "Table:  employee\n",
      "employee_id    0\n",
      "last_name      0\n",
      "first_name     0\n",
      "title          0\n",
      "reports_to     0\n",
      "levels         0\n",
      "birthdate      0\n",
      "hire_date      0\n",
      "address        0\n",
      "city           0\n",
      "state          0\n",
      "country        0\n",
      "postal_code    0\n",
      "phone          0\n",
      "fax            0\n",
      "email          0\n",
      "dtype: int64\n",
      "\n",
      "Table:  genre\n",
      "genre_id    0\n",
      "name        0\n",
      "dtype: int64\n",
      "\n",
      "Table:  invoice\n",
      "invoice_id             0\n",
      "customer_id            0\n",
      "invoice_date           0\n",
      "billing_address        0\n",
      "billing_city           0\n",
      "billing_state          0\n",
      "billing_country        0\n",
      "billing_postal_code    0\n",
      "total                  0\n",
      "dtype: int64\n",
      "\n",
      "Table:  invoice_line\n",
      "invoice_line_id    0\n",
      "invoice_id         0\n",
      "track_id           0\n",
      "unit_price         0\n",
      "quantity           0\n",
      "dtype: int64\n",
      "\n",
      "Table:  media_type\n",
      "media_type_id    0\n",
      "name             0\n",
      "dtype: int64\n",
      "\n",
      "Table:  playlist\n",
      "playlist_id    0\n",
      "name           0\n",
      "dtype: int64\n",
      "\n",
      "Table:  playlist_track\n",
      "playlist_id    0\n",
      "track_id       0\n",
      "dtype: int64\n",
      "\n",
      "Table:  track\n",
      "track_id         0\n",
      "name             0\n",
      "album_id         0\n",
      "media_type_id    0\n",
      "genre_id         0\n",
      "composer         0\n",
      "milliseconds     0\n",
      "bytes            0\n",
      "unit_price       0\n",
      "dtype: int64\n"
     ]
    }
   ],
   "source": [
    "#Checking for null values\n",
    "for table in table_list:\n",
    "    print('\\nTable: ',table)\n",
    "    df_table=pd.read_sql_query(f'select * from {table}',mydb)\n",
    "    print(df_table.isnull().sum())"
   ]
  },
  {
   "cell_type": "code",
   "execution_count": null,
   "metadata": {},
   "outputs": [],
   "source": []
  }
 ],
 "metadata": {
  "kernelspec": {
   "display_name": "Python 3",
   "language": "python",
   "name": "python3"
  },
  "language_info": {
   "codemirror_mode": {
    "name": "ipython",
    "version": 3
   },
   "file_extension": ".py",
   "mimetype": "text/x-python",
   "name": "python",
   "nbconvert_exporter": "python",
   "pygments_lexer": "ipython3",
   "version": "3.9.0"
  }
 },
 "nbformat": 4,
 "nbformat_minor": 2
}
